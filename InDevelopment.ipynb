{
 "cells": [
  {
   "cell_type": "code",
   "execution_count": 1,
   "metadata": {
    "collapsed": true
   },
   "outputs": [],
   "source": [
    "import pandas as pd\n",
    "import numpy as np\n",
    "import sys, os\n",
    "import time\n",
    "import io\n",
    "import re\n",
    "import datetime\n",
    "\n",
    "# change this path accordingly\n",
    "samPath = '/Users/jacky/Documents/py3samsdk-master'\n",
    "if samPath not in sys.path:\n",
    "    sys.path.insert(0, samPath)\n",
    "    \n",
    "\n",
    "from py3samsdk.sscapi import PySSC\n",
    "from urllib.error import HTTPError\n",
    "from urllib.request import urlopen\n",
    "\n",
    "ssc_lib = '/Applications/sdk-release/osx64/'  # path to SAM SSC Library\n",
    "ssc = PySSC(ssc_lib)"
   ]
  },
  {
   "cell_type": "code",
   "execution_count": 2,
   "metadata": {
    "collapsed": true
   },
   "outputs": [],
   "source": [
    "# Reads input file for email and api key\n",
    "inputfile = open(os.getcwd() + \"/input.txt\", \"r\")\n",
    "lines = inputfile.readlines()"
   ]
  },
  {
   "cell_type": "code",
   "execution_count": 3,
   "metadata": {
    "collapsed": true
   },
   "outputs": [],
   "source": [
    "email_re = re.compile(r'[\\w.]+@[\\w]+.[\\w]+')\n",
    "emails = email_re.findall(lines[0])\n",
    "\n",
    "api_keys = lines[1].replace(\" \", \"\")[7:].split(',')"
   ]
  },
  {
   "cell_type": "code",
   "execution_count": 5,
   "metadata": {
    "collapsed": true
   },
   "outputs": [],
   "source": [
    "zipcodes = pd.read_csv(\"project-sunroof-postal_code-11292017.csv\").loc[:,['region_name', 'state_name',  'lat_avg', 'percent_covered', 'lng_avg', 'number_of_panels_f', 'number_of_panels_total', 'yearly_sunlight_kwh_f']]\n",
    "zipcodes['capacity'] = zipcodes['number_of_panels_f']*0.00025\n",
    "zipcodes['region_name'] = zipcodes['region_name'].apply(lambda x: str(x)[:-2])\n",
    "\n",
    "# Set number to threshold that we want for percent_covered\n",
    "zipcodes = zipcodes[zipcodes['percent_covered'] >= 80]\n",
    "zipcodes = zipcodes[zipcodes['state_name'] != 'Alaska']\n",
    "\n",
    "# Uncomment if filtering by state\n",
    "# zipcodes = zipcodes[zipcodes['state_name'] == 'California']\n"
   ]
  },
  {
   "cell_type": "code",
   "execution_count": 6,
   "metadata": {},
   "outputs": [
    {
     "data": {
      "text/html": [
       "<div>\n",
       "<style>\n",
       "    .dataframe thead tr:only-child th {\n",
       "        text-align: right;\n",
       "    }\n",
       "\n",
       "    .dataframe thead th {\n",
       "        text-align: left;\n",
       "    }\n",
       "\n",
       "    .dataframe tbody tr th {\n",
       "        vertical-align: top;\n",
       "    }\n",
       "</style>\n",
       "<table border=\"1\" class=\"dataframe\">\n",
       "  <thead>\n",
       "    <tr style=\"text-align: right;\">\n",
       "      <th></th>\n",
       "      <th>index</th>\n",
       "      <th>region_name</th>\n",
       "      <th>state_name</th>\n",
       "      <th>lat_avg</th>\n",
       "      <th>percent_covered</th>\n",
       "      <th>lng_avg</th>\n",
       "      <th>number_of_panels_f</th>\n",
       "      <th>number_of_panels_total</th>\n",
       "      <th>yearly_sunlight_kwh_f</th>\n",
       "      <th>capacity</th>\n",
       "    </tr>\n",
       "  </thead>\n",
       "  <tbody>\n",
       "    <tr>\n",
       "      <th>0</th>\n",
       "      <td>1</td>\n",
       "      <td>15104</td>\n",
       "      <td>Pennsylvania</td>\n",
       "      <td>40.406255</td>\n",
       "      <td>98.791687</td>\n",
       "      <td>-79.862353</td>\n",
       "      <td>42634</td>\n",
       "      <td>130282.0</td>\n",
       "      <td>1.202862e+07</td>\n",
       "      <td>10.65850</td>\n",
       "    </tr>\n",
       "    <tr>\n",
       "      <th>1</th>\n",
       "      <td>3</td>\n",
       "      <td>15108</td>\n",
       "      <td>Pennsylvania</td>\n",
       "      <td>40.505561</td>\n",
       "      <td>96.886620</td>\n",
       "      <td>-80.187328</td>\n",
       "      <td>397143</td>\n",
       "      <td>863308.0</td>\n",
       "      <td>1.132624e+08</td>\n",
       "      <td>99.28575</td>\n",
       "    </tr>\n",
       "    <tr>\n",
       "      <th>2</th>\n",
       "      <td>4</td>\n",
       "      <td>15106</td>\n",
       "      <td>Pennsylvania</td>\n",
       "      <td>40.404535</td>\n",
       "      <td>99.683730</td>\n",
       "      <td>-80.094418</td>\n",
       "      <td>133591</td>\n",
       "      <td>350858.0</td>\n",
       "      <td>3.820641e+07</td>\n",
       "      <td>33.39775</td>\n",
       "    </tr>\n",
       "    <tr>\n",
       "      <th>3</th>\n",
       "      <td>5</td>\n",
       "      <td>15112</td>\n",
       "      <td>Pennsylvania</td>\n",
       "      <td>40.404671</td>\n",
       "      <td>99.732083</td>\n",
       "      <td>-79.839290</td>\n",
       "      <td>12877</td>\n",
       "      <td>44229.0</td>\n",
       "      <td>3.605938e+06</td>\n",
       "      <td>3.21925</td>\n",
       "    </tr>\n",
       "    <tr>\n",
       "      <th>4</th>\n",
       "      <td>6</td>\n",
       "      <td>15110</td>\n",
       "      <td>Pennsylvania</td>\n",
       "      <td>40.370982</td>\n",
       "      <td>99.574633</td>\n",
       "      <td>-79.852884</td>\n",
       "      <td>38592</td>\n",
       "      <td>73782.0</td>\n",
       "      <td>1.103744e+07</td>\n",
       "      <td>9.64800</td>\n",
       "    </tr>\n",
       "  </tbody>\n",
       "</table>\n",
       "</div>"
      ],
      "text/plain": [
       "   index region_name    state_name    lat_avg  percent_covered    lng_avg  \\\n",
       "0      1       15104  Pennsylvania  40.406255        98.791687 -79.862353   \n",
       "1      3       15108  Pennsylvania  40.505561        96.886620 -80.187328   \n",
       "2      4       15106  Pennsylvania  40.404535        99.683730 -80.094418   \n",
       "3      5       15112  Pennsylvania  40.404671        99.732083 -79.839290   \n",
       "4      6       15110  Pennsylvania  40.370982        99.574633 -79.852884   \n",
       "\n",
       "   number_of_panels_f  number_of_panels_total  yearly_sunlight_kwh_f  capacity  \n",
       "0               42634                130282.0           1.202862e+07  10.65850  \n",
       "1              397143                863308.0           1.132624e+08  99.28575  \n",
       "2              133591                350858.0           3.820641e+07  33.39775  \n",
       "3               12877                 44229.0           3.605938e+06   3.21925  \n",
       "4               38592                 73782.0           1.103744e+07   9.64800  "
      ]
     },
     "execution_count": 6,
     "metadata": {},
     "output_type": "execute_result"
    }
   ],
   "source": [
    "latlon = zipcodes.reset_index()\n",
    "latlon.head()"
   ]
  },
  {
   "cell_type": "code",
   "execution_count": 7,
   "metadata": {
    "collapsed": true
   },
   "outputs": [],
   "source": [
    "def wait():\n",
    "    print(\"Waiting until 5am tomorrow\")\n",
    "    t = datetime.datetime.today()\n",
    "    future = datetime.datetime(t.year, t.month, t.day, 5, 0)\n",
    "    if t.hour >= 5:\n",
    "        future += datetime.timedelta(days=1)\n",
    "    time.sleep((future-t).seconds)\n",
    "    \n",
    "def wait_2_hours():\n",
    "    print(\"Waiting 2 hours\")\n",
    "    time.sleep(7200)\n",
    "    \n",
    "def wait_4_hours():\n",
    "    print(\"Waiting 4 hours\")\n",
    "    time.sleep(14400)"
   ]
  },
  {
   "cell_type": "code",
   "execution_count": 8,
   "metadata": {
    "collapsed": true
   },
   "outputs": [],
   "source": [
    "def get_remaining_calls(api_key):\n",
    "    print(\"Getting remaining number of requests...\")\n",
    "    url = 'http://developer.nrel.gov/api/solar/nsrdb_psm3_download.csv?wkt=POINT(-79.862353+40.406255)&names=2015&interval=60&email=jackyzhu@berkeley.edu&api_key={api_key}'.format(api_key=api_key)\n",
    "    response = urlopen(url)\n",
    "    headers = dict(response.getheaders())\n",
    "    remaining_calls = int(headers['X-RateLimit-Remaining'])\n",
    "    print(str(remaining_calls) + \" remaining requests left\")\n",
    "    return remaining_calls"
   ]
  },
  {
   "cell_type": "code",
   "execution_count": null,
   "metadata": {
    "collapsed": true
   },
   "outputs": [],
   "source": []
  },
  {
   "cell_type": "code",
   "execution_count": 12,
   "metadata": {},
   "outputs": [
    {
     "name": "stdout",
     "output_type": "stream",
     "text": [
      "Getting remaining number of requests...\n",
      "1233 remaining requests left\n",
      "Found 8007 files for year 2013"
     ]
    }
   ],
   "source": [
    "# Counties with same names are triggering the check if file already exists\n",
    "# Despite getting the same file, the generation outputs are different\n",
    "\n",
    "\n",
    "### Changable parameters ###\n",
    "# include a trailing forward slash (/)\n",
    "path_to_csv = os.getcwd() + '/csvs/'\n",
    "\n",
    "\n",
    "\n",
    "year = 2013\n",
    "interval = '60'\n",
    "yearly_generations = np.zeros(len(latlon))\n",
    "hourly_generations = pd.DataFrame()\n",
    "errors = np.zeros(len(latlon))\n",
    "\n",
    "if not os.path.exists(path_to_csv + str(year)):\n",
    "    os.makedirs(path_to_csv + str(year))\n",
    "\n",
    "email_count = 0 # which api account to use\n",
    "error_counter = 0\n",
    "trys_before_fail = 4\n",
    "start = True\n",
    "\n",
    "\n",
    "for index, row in latlon.iterrows():\n",
    "    \n",
    "    while start:\n",
    "        # The only way to get the remaining number of calls is to make a request (which itself would decrement from our quote)\n",
    "        # so we make a dummy call to get the remaining number of calls first\n",
    "        try:\n",
    "            remaining_calls = get_remaining_calls(api_keys[email_count])\n",
    "            start = False\n",
    "        except HTTPError as e:\n",
    "            print('Error ' + str(e) + ' during initial call.')\n",
    "            wait_4_hours()\n",
    "    lat = row['lat_avg']\n",
    "    lon = row['lng_avg']\n",
    "    capacity = row['capacity']\n",
    "    url = 'http://developer.nrel.gov/api/solar/nsrdb_psm3_download.csv?wkt=POINT({lon}%20{lat})&names={year}&interval={interval}&email={email}&api_key={api}'.format(year=year, lat=lat, lon=lon, interval=interval, email=emails[email_count], api=api_keys[email_count])\n",
    "    data = pd.DataFrame()\n",
    "    trys = 1\n",
    "    succeeded = False\n",
    "    errored = False\n",
    "    if os.path.isfile('{path}{year}/{region}_{state}.csv'.format(path=path_to_csv, year=year, region=row['region_name'], state=row['state_name'])):\n",
    "        sys.stdout.write(\"\\rFound %i files for year %i\" % (index, year))\n",
    "        sys.stdout.flush()\n",
    "        continue\n",
    "    else:\n",
    "        while(not succeeded):\n",
    "            try:\n",
    "                time.sleep(2)\n",
    "                remaining_calls -= 1\n",
    "                response = urlopen(url)\n",
    "                data = pd.read_csv(io.StringIO(response.read().decode('utf-8')))\n",
    "                data.to_csv(path_to_csv + str(year) + '/' + str(row['region_name']) + '_' + str(row['state_name']) + '.csv')\n",
    "                trys += 1\n",
    "                \n",
    "                succeeded = True\n",
    "                error_count = 0\n",
    "                print(\"Acquired weather data for \" + str(row['region_name']), \"Remaining calls: \" + str(remaining_calls))\n",
    "            except HTTPError as error:\n",
    "                succeeded = False\n",
    "                if trys > trys_before_fail:\n",
    "                    continue\n",
    "                if error.code == 504 or error.code == 500:\n",
    "                    print('Attempting retry number {0} with zip code {1}'.format(trys, row['region_name']))\n",
    "                    trys += 1\n",
    "                else:\n",
    "                    print('{0}. Error {1} with {2},{3}'.format(index, error.code, row['region_name'], row['state_name']))\n",
    "                    yearly_generations[index] = None\n",
    "                    errored = True\n",
    "                    errors[index] = error.code\n",
    "                    error_counter += 1\n",
    "                    break\n",
    "            except:\n",
    "                latlon['generations'] = yearly_generations\n",
    "                hourly_generations.to_csv('hourly' + str(year) + '.csv')\n",
    "                latlon.to_csv('year' + str(year) + '.csv')\n",
    "                raise\n",
    "    \n",
    "    \n",
    "#     if int(remaining_calls) < 10:\n",
    "#         free_account = look_for_account()\n",
    "#         if free_account is not None:\n",
    "#             email_count = free_account\n",
    "#         else:\n",
    "#             break\n",
    "    \n",
    "    if 0 <= remaining_calls < trys_before_fail+5: \n",
    "        wait()\n",
    "        start = True\n",
    "print(\"Done getting all weather data for year \" + str(year))"
   ]
  },
  {
   "cell_type": "code",
   "execution_count": null,
   "metadata": {
    "collapsed": true
   },
   "outputs": [],
   "source": []
  },
  {
   "cell_type": "code",
   "execution_count": null,
   "metadata": {
    "collapsed": true
   },
   "outputs": [],
   "source": []
  },
  {
   "cell_type": "code",
   "execution_count": null,
   "metadata": {
    "collapsed": true
   },
   "outputs": [],
   "source": []
  },
  {
   "cell_type": "code",
   "execution_count": null,
   "metadata": {
    "collapsed": true
   },
   "outputs": [],
   "source": []
  },
  {
   "cell_type": "code",
   "execution_count": null,
   "metadata": {
    "collapsed": true
   },
   "outputs": [],
   "source": [
    "path_to_csv = '/Volumes/RAEL_4TB_SILVER/nrel_csvs/'\n",
    "# Run weather data through SAM\n",
    "for index, row in latlon.iterrows():\n",
    "    if os.path.isfile(path_to_csv + str(year) + '/' + str(row['region_name']) + '_' + str(row['state_name']) + '.csv'):\n",
    "        data = pd.read_csv(path_to_csv + str(year) + '/' + str(row['region_name']) + '_' + str(row['state_name']) + '.csv')\n",
    "    else:\n",
    "        print(\"No weather data for \" + row['region_name'])\n",
    "        continue\n",
    "    metadata = data.iloc[0:1, :]\n",
    "\n",
    "    timezone = metadata['Time Zone'].values[0]\n",
    "    elevation = metadata['Elevation'].values[0]\n",
    "\n",
    "    loc_data = data.iloc[:,:]\n",
    "    loc_data.columns = loc_data.iloc[1]\n",
    "    loc_data = loc_data.iloc[2:, :]\n",
    "    loc_data = loc_data.set_index(pd.date_range('1/1/{yr}'.format(yr=year), freq=interval+'Min', periods=525600/int(interval)))\n",
    "    loc_data = loc_data.dropna(axis = 1, how='all')\n",
    "    loc_data[['DNI','DHI', 'Wind Speed', 'Temperature']] = loc_data[['DNI','DHI', 'Wind Speed', 'Temperature']].apply(pd.to_numeric)\n",
    "\n",
    "    wfd = ssc.data_create()\n",
    "    ssc.data_set_number(wfd, 'lat', lat)\n",
    "    ssc.data_set_number(wfd, 'lon', lon)\n",
    "    ssc.data_set_number(wfd, 'tz', float(timezone))\n",
    "    ssc.data_set_number(wfd, 'elev', float(elevation))\n",
    "    ssc.data_set_array(wfd, 'year', loc_data.index.year)\n",
    "    ssc.data_set_array(wfd, 'month', loc_data.index.month)\n",
    "    ssc.data_set_array(wfd, 'day', loc_data.index.day)\n",
    "    ssc.data_set_array(wfd, 'hour', loc_data.index.hour)\n",
    "    ssc.data_set_array(wfd, 'minute', loc_data.index.minute)\n",
    "    ssc.data_set_array(wfd, 'dn', loc_data['DNI'])\n",
    "    ssc.data_set_array(wfd, 'df', loc_data['DHI'])\n",
    "    ssc.data_set_array(wfd, 'wspd', loc_data['Wind Speed'])\n",
    "    ssc.data_set_array(wfd, 'tdry', loc_data['Temperature'])\n",
    "\n",
    "    # Create SAM compliant object  \n",
    "    dat = ssc.data_create()\n",
    "    ssc.data_set_table(dat, 'solar_resource_data', wfd)\n",
    "    ssc.data_free(wfd)\n",
    "\n",
    "    # Specify the system Configuration\n",
    "    # Set system capacity in MW\n",
    "    system_capacity = capacity\n",
    "    ssc.data_set_number(dat, 'system_capacity', system_capacity)\n",
    "    # Set DC/AC ratio (or power ratio). See https://sam.nrel.gov/sites/default/files/content/virtual_conf_july_2013/07-sam-virtual-conference-2013-woodcock.pdf\n",
    "    ssc.data_set_number(dat, 'dc_ac_ratio', 1.15)\n",
    "    # Set tilt of system in degrees\n",
    "    # For Google data, roof segments are considered Flat for roofs with a tilt of less than 10%\n",
    "    ssc.data_set_number(dat, 'tilt', lat)\n",
    "    # Set azimuth angle (in degrees) from north (0 degrees)\n",
    "    ssc.data_set_number(dat, 'azimuth', 180)\n",
    "    # Set the inverter efficency\n",
    "    ssc.data_set_number(dat, 'inv_eff', 96)\n",
    "    # Set the system losses, in percent\n",
    "    ssc.data_set_number(dat, 'losses', 14.0757)\n",
    "    # Specify fixed tilt system (0=Fixed, 1=Fixed Roof, 2=1 Axis Tracker, 3=Backtracted, 4=2 Axis Tracker)\n",
    "    ssc.data_set_number(dat, 'array_type', 0)\n",
    "    # Set ground coverage ratio (PACKING DENSITY)\n",
    "    ssc.data_set_number(dat, 'gcr', (np.cos(np.radians(lat)))**2)\n",
    "    # Set constant loss adjustment\n",
    "    ssc.data_set_number(dat, 'adjust:constant', 0)\n",
    "\n",
    "    # execute and put generation results back into dataframe\n",
    "    mod = ssc.module_create('pvwattsv5')\n",
    "    ssc.module_exec(mod, dat)\n",
    "    loc_data['generation'] = np.array(ssc.data_get_array(dat, 'gen'))\n",
    "    hourly_generations[row['region_name']] = loc_data['generation']\n",
    "\n",
    "    # free the memory\n",
    "    ssc.data_free(dat)\n",
    "    ssc.module_free(mod)\n",
    "    print('{0}. {1}: {2}; Remaining Calls: {3}'.format(index, row['region_name'], loc_data['generation'].sum(), remaining_calls))\n",
    "    yearly_generations[index] = loc_data['generation'].sum()*1000\n",
    "    time.sleep(1)\n",
    "\n",
    "\n",
    "latlon['generations'] = yearly_generations\n",
    "latlon['error codes'] = errors"
   ]
  },
  {
   "cell_type": "code",
   "execution_count": 14,
   "metadata": {
    "collapsed": true
   },
   "outputs": [],
   "source": [
    "hourly_generations.to_csv('hourly' + str(year) + '.csv')\n",
    "latlon.to_csv('year' + str(year) + '.csv')"
   ]
  },
  {
   "cell_type": "code",
   "execution_count": 44,
   "metadata": {
    "collapsed": true
   },
   "outputs": [],
   "source": [
    "hourly = pd.read_csv(\"year2012.csv\")\n",
    "# hourly1 = pd.read_csv(\"hourly2012(old).csv\")\n",
    "# hourly2= pd.read_csv(\"hourly2012(old2).csv\")\n",
    "# hourly_result = pd.concat([hourly, hourly1, hourly2], axis=1)"
   ]
  },
  {
   "cell_type": "code",
   "execution_count": 45,
   "metadata": {},
   "outputs": [
    {
     "data": {
      "text/plain": [
       "(6562, 13)"
      ]
     },
     "execution_count": 45,
     "metadata": {},
     "output_type": "execute_result"
    }
   ],
   "source": [
    "hourly.shape"
   ]
  },
  {
   "cell_type": "code",
   "execution_count": 32,
   "metadata": {},
   "outputs": [
    {
     "name": "stdout",
     "output_type": "stream",
     "text": [
      "(6562, 12)\n",
      "(6562, 12)\n",
      "(6562, 12)\n"
     ]
    }
   ],
   "source": [
    "print(hourly.shape)\n",
    "print(hourly2.shape)\n",
    "print(hourly1.shape)"
   ]
  },
  {
   "cell_type": "code",
   "execution_count": 25,
   "metadata": {
    "collapsed": true
   },
   "outputs": [],
   "source": [
    "hourly_result.to_csv('hourly' + str(year) + '.csv')"
   ]
  },
  {
   "cell_type": "code",
   "execution_count": null,
   "metadata": {
    "collapsed": true
   },
   "outputs": [],
   "source": [
    "latlon = pd.read_csv('yearly.csv')"
   ]
  },
  {
   "cell_type": "code",
   "execution_count": null,
   "metadata": {
    "collapsed": true
   },
   "outputs": [],
   "source": [
    "latlon['percent ratio'] = latlon['generations'] / latlon['yearly_sunlight_kwh_f']"
   ]
  },
  {
   "cell_type": "code",
   "execution_count": null,
   "metadata": {
    "collapsed": true
   },
   "outputs": [],
   "source": [
    "%matplotlib inline\n",
    "latlon['percent ratio'].plot(kind='hist')"
   ]
  },
  {
   "cell_type": "code",
   "execution_count": null,
   "metadata": {
    "collapsed": true
   },
   "outputs": [],
   "source": []
  },
  {
   "cell_type": "code",
   "execution_count": null,
   "metadata": {
    "collapsed": true
   },
   "outputs": [],
   "source": []
  },
  {
   "cell_type": "code",
   "execution_count": null,
   "metadata": {
    "collapsed": true
   },
   "outputs": [],
   "source": []
  },
  {
   "cell_type": "code",
   "execution_count": null,
   "metadata": {
    "collapsed": true
   },
   "outputs": [],
   "source": []
  },
  {
   "cell_type": "code",
   "execution_count": null,
   "metadata": {
    "collapsed": true
   },
   "outputs": [],
   "source": [
    "from matplotlib import pyplot as plt\n",
    "plt.style.use('ggplot')\n",
    "\n",
    "def nsrdb_plot(df, i):\n",
    "    fig = plt.figure()\n",
    "    ax = fig.add_subplot(111)\n",
    "    ax2 = ax.twinx()\n",
    "    df['90 Degree Zenith'] = 90\n",
    "    df[['GHI', 'DNI', 'DHI', 'Solar Zenith Angle', '90 Degree Zenith']][i:i+int(interval)].plot(ax=ax, figsize=(15,8), yticks=(np.arange(0,900,100)), style={'90 Degree Zenith': '--','Solar Zenith Angle': '-o', 'DNI': '-o', 'DHI': '-o', 'GHI': '-o'}, legend=False)\n",
    "    df['generation'][i:i+30].plot(ax=ax2, yticks=(np.arange(0,4.5,0.5)), style={'generation': 'y-o'})\n",
    "    ax.grid()\n",
    "    ax.set_ylabel('W/m2')\n",
    "    ax2.set_ylabel('kW')\n",
    "    ax.legend(loc=2, ncol=5, frameon=False)\n",
    "    ax2.legend(loc=1, frameon=False)"
   ]
  },
  {
   "cell_type": "code",
   "execution_count": null,
   "metadata": {
    "collapsed": true
   },
   "outputs": [],
   "source": []
  },
  {
   "cell_type": "code",
   "execution_count": null,
   "metadata": {
    "collapsed": true
   },
   "outputs": [],
   "source": [
    "nsrdb_plot(df, 5050)"
   ]
  },
  {
   "cell_type": "code",
   "execution_count": null,
   "metadata": {
    "collapsed": true
   },
   "outputs": [],
   "source": []
  }
 ],
 "metadata": {
  "anaconda-cloud": {},
  "kernelspec": {
   "display_name": "Python 3",
   "language": "python",
   "name": "python3"
  },
  "language_info": {
   "codemirror_mode": {
    "name": "ipython",
    "version": 3
   },
   "file_extension": ".py",
   "mimetype": "text/x-python",
   "name": "python",
   "nbconvert_exporter": "python",
   "pygments_lexer": "ipython3",
   "version": "3.6.3"
  }
 },
 "nbformat": 4,
 "nbformat_minor": 2
}
